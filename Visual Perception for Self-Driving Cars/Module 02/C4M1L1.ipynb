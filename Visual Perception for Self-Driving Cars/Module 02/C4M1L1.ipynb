{
 "cells": [
  {
   "cell_type": "markdown",
   "metadata": {},
   "source": [
    "# The Camera Sensor\n",
    "\n",
    "- Capture detailed appearance information\n",
    "- high rate of information capture\n",
    "- Relatively inexpensive\n",
    "- The camera is important as a sensor due to the amount of information it can capture, and its relatively small price tag\n",
    "- The basic camera model has existed since the 1500s"
   ]
  }
 ],
 "metadata": {
  "language_info": {
   "name": "python"
  }
 },
 "nbformat": 4,
 "nbformat_minor": 2
}
