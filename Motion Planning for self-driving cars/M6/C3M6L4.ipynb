{
 "cells": [
  {
   "cell_type": "markdown",
   "metadata": {},
   "source": [
    "# Hierarchical State Machine - Advantages and Disadvantages\n",
    "\n",
    "- Advantages:\n",
    "1. Decrease in computational time\n",
    "2. Simpler to create and maintain\n",
    "\n",
    "- Disavantages:\n",
    "1. Rule explosion\n",
    "2. Repetition of many rules in the low level state machine"
   ]
  }
 ],
 "metadata": {
  "language_info": {
   "name": "python"
  }
 },
 "nbformat": 4,
 "nbformat_minor": 2
}
