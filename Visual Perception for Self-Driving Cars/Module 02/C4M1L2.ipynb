{
 "cells": [
  {
   "cell_type": "markdown",
   "metadata": {},
   "source": [
    "# Camera Projective Geometry\n",
    "\n",
    "- 3D points in the world coordinate frame can be projected to 2D points in the image coordinate frame using projective geometry equations. \n",
    "- These equations rely on the camera intrinsic parameters, as well as its extrinsic location in the world coordinate frame.\n",
    "- A color camera image is represented digitally as an MxNx3 array of unsigned 8 bit or 16 bit integers."
   ]
  }
 ],
 "metadata": {
  "language_info": {
   "name": "python"
  }
 },
 "nbformat": 4,
 "nbformat_minor": 2
}
