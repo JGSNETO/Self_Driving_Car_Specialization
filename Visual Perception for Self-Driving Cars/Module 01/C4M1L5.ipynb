{
 "cells": [
  {
   "cell_type": "markdown",
   "metadata": {},
   "source": [
    "# Computing the disparity\n",
    "\n",
    "- Disparity: The difference in image location of the same 3D point under perspective to two different cameras\n",
    "- Correspond: Pixels in the left image to those in the right image to find matches\n",
    "- Brute force solution: Seach the whole image for each pixel\n",
    "- Disparity estimation can be performed through stereo matching algorithms\n",
    "- Efficient solutions exist as the problem is constrained with epipolar constraints"
   ]
  }
 ],
 "metadata": {
  "language_info": {
   "name": "python"
  }
 },
 "nbformat": 4,
 "nbformat_minor": 2
}
