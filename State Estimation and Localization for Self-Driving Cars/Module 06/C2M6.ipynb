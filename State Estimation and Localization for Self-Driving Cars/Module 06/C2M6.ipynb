{
 "cells": [
  {
   "cell_type": "markdown",
   "id": "66855f76-8e35-4e04-90e6-fa84b9289f1e",
   "metadata": {},
   "source": [
    "# State Estimation in Practice\n",
    "\n",
    "## State Estimation with Multiple Sensors\n",
    "\n",
    "- Self-driving vehicles rely on data streams from many different sensors(Cameras, IMUs, LIDAR, RADAR, GPS)\n",
    "\n",
    "## Calibration\n",
    "\n",
    "- What do we need to know about our sensors and the vehicle to do sensor fusion ?\n",
    "1. Sensor models, which may depend on car-specific parameters\n",
    "2. Relative poses between each sensor pair, so we can combine information in a common reference frame\n",
    "3. Time offsets between sensor polling times, so we combine only synchronized information\n",
    "- There are all critical forms of calibration.\n",
    "\n",
    "## Accuracy Requirements\n",
    "\n",
    "- How accurate does the estimator need to be for safe self-driving\n",
    "- Typically less than a meter for highway lane keeping\n",
    "- Less for driving in dense traffic\n",
    "- GPS accuracy is 1-5 meters in optimal conditions: Need aditional sensors\n",
    "\n",
    "## Speed requirements\n",
    "\n",
    "- How fast do we need to update the vehicle state to ensure safe driving ?\n",
    "- How much computational power does the vehicle have on-board ?\n",
    "- How much power can or computing resources consume ?\n",
    "\n",
    "## Summary\n",
    "\n",
    "- Pratical state estimation typically fuses data from multiple sensors\n",
    "- Calibration is important for correct sensor fusion\n",
    "- Estimation algorithms must be designed with speed and accuracy requirements in mind\n",
    "- Need to be able to cope with localization failures and environmental changes"
   ]
  },
  {
   "cell_type": "markdown",
   "id": "4e60b6f0-f5b4-463c-8733-c9da87e2e0f4",
   "metadata": {},
   "source": [
    "# Multisensor Fusion for State Estimation\n",
    "\n",
    "## Why use GNSS with IMY & LIDAR ?\n",
    "\n",
    "- Error dynamics are completely different and uncorrelated\n",
    "- IMU provides 'smoothing' of GNSS, fill-in during outages due to jamming or maneuvering\n",
    "- Wheel odometry is also possible(if only 2D position orientation is designed)\n",
    "- GNSS provides absolute positioning information to mitigate IMU drift\n",
    "- LIDAR provides accurate local positioning within known maps\n",
    "\n",
    "## Summary\n",
    "\n",
    "- We used a loosely coupled EKF to fuse GNSS with IMU and LIDAR measurement\n",
    "- Assumptions:\n",
    "1. LIDAR provides positioning in the same reference frame as GNSS (possible)\n",
    "2. IMU has no biases (not realistic)\n",
    "3. State initialization is provided"
   ]
  }
 ],
 "metadata": {
  "kernelspec": {
   "display_name": "Python 3 (ipykernel)",
   "language": "python",
   "name": "python3"
  },
  "language_info": {
   "codemirror_mode": {
    "name": "ipython",
    "version": 3
   },
   "file_extension": ".py",
   "mimetype": "text/x-python",
   "name": "python",
   "nbconvert_exporter": "python",
   "pygments_lexer": "ipython3",
   "version": "3.8.0"
  }
 },
 "nbformat": 4,
 "nbformat_minor": 5
}
