{
 "cells": [
  {
   "cell_type": "markdown",
   "metadata": {},
   "source": [
    "# Static objects\n",
    "\n",
    "- Static obstacles block portions of workspace. Occupancy grid encoding stores obstacles locations.\n",
    "- Static obstacles constraints satisfied by performing collision checking. Can check for collisions using the swath of the vehicle's path. Can also check for closest obstacles along ego vehicle's path. \n",
    "\n",
    "# Rules of the road and regulatory elements\n",
    "\n",
    "- Lanes constraints restrct path locations.\n",
    "- Signs, traffic lights influence vehicle behaviour. "
   ]
  }
 ],
 "metadata": {
  "language_info": {
   "name": "python"
  }
 },
 "nbformat": 4,
 "nbformat_minor": 2
}
