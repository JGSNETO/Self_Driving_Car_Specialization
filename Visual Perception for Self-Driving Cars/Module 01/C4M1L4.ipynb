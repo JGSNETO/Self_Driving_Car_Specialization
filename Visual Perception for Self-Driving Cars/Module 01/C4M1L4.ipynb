{
 "cells": [
  {
   "cell_type": "markdown",
   "metadata": {},
   "source": [
    "# Steropsis\n",
    "\n",
    "- Charles Wheatstone:\"..the mind perceives an object of three dimensions by means of the two dissimilar pictures projected by it on the two retinae\".\n",
    "- Steropsis as a phenomenon was well known as early as the 19th century.\n",
    "\n",
    "## Stereo sensor:\n",
    "\n",
    "- Sensor is constructed from two identical cameras\n",
    "- The two cameras have parallel optical axes\n",
    "- Project to bird's eye view for easier geometry\n",
    "\n"
   ]
  }
 ],
 "metadata": {
  "language_info": {
   "name": "python"
  }
 },
 "nbformat": 4,
 "nbformat_minor": 2
}
