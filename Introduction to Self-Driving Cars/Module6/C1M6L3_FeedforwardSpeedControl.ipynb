{
 "cells": [
  {
   "cell_type": "markdown",
   "id": "e98bc5ca",
   "metadata": {},
   "source": [
    "# Feedback vs Feedforward Control\n",
    "\n",
    "- Feedback: Closed loop(Reactive)\n",
    "- Feedforward: Open loop(Predictive)\n",
    "- They are both often used together:\n",
    "1. Feedforward controller provides predictive response, non-sero offset.\n",
    "2. Feedback controller corrects the response, compensating for disturbances and errors in the model.\n",
    "\n",
    "## Vehicle Speed Control\n",
    "\n",
    "- Throttling & Braking:\n",
    "1. The output of the feedforward and feedback control blocks are the throttling or braking signals to accelerate or decelerate the vehicle(plant) to keep the vehicle velocity close to the reference velocity. \n",
    "\n",
    "## Controller Actuators\n",
    "\n",
    "- Actuators(Throttle angle)\n",
    "1. The feedforward controller generates the actuator signal *uff* based on the predefined table and the feedback controller generates the actuator signal *ufb* based on the velocity error."
   ]
  }
 ],
 "metadata": {
  "kernelspec": {
   "display_name": "Python 3 (ipykernel)",
   "language": "python",
   "name": "python3"
  },
  "language_info": {
   "codemirror_mode": {
    "name": "ipython",
    "version": 3
   },
   "file_extension": ".py",
   "mimetype": "text/x-python",
   "name": "python",
   "nbconvert_exporter": "python",
   "pygments_lexer": "ipython3",
   "version": "3.7.0"
  }
 },
 "nbformat": 4,
 "nbformat_minor": 5
}
