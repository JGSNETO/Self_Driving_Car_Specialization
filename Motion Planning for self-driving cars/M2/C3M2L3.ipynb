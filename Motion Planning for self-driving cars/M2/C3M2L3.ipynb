{
 "cells": [
  {
   "cell_type": "markdown",
   "metadata": {},
   "source": [
    "# Efficiency\n",
    "\n",
    "- Path length: Minimize the arc length of a path to generate the shortest path to the goal.\n",
    "- Travel time: Minimize time to destination while following the planned path. \n",
    "\n",
    "# Reference tracking\n",
    "\n",
    "- Penalize deviation from the reference path or speed profile.\n",
    "- For velocity: Hinge loss to penalize speed limit violations severely."
   ]
  }
 ],
 "metadata": {
  "language_info": {
   "name": "python"
  }
 },
 "nbformat": 4,
 "nbformat_minor": 2
}
