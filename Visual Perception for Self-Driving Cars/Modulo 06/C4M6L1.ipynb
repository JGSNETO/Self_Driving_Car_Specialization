{
 "cells": [
  {
   "cell_type": "markdown",
   "metadata": {},
   "source": [
    "# Semantic Segmentation\n",
    "\n",
    "- Semantic segmentation s a core task in computer vision that focused on understanding the content of an image at the pixel level. In the context of AI, semantic segmentation involves assigning a label to every pixel in an image, grouping them into predefined vategories such as \"car\", \"road\", \"sky\" or \"person\". \n",
    "\n",
    "## Key concepts in semantic segmentation\n",
    "\n",
    "1. Pixel- level classification: Each pixel in an image is classified into a category. \n",
    "2. Categogies or Classes: The predefined set of labels or classes to which each pixel can belong. These can be broad of specific. \n",
    "3. Output: The result is typically a segmentation mask - a 2D image where each pixel's value corresponds to its class label. \n",
    "\n",
    "## Techniques Ues in semantic segmentation\n",
    "\n",
    "1. Convolution Neural Networks\n",
    "2. Encoder-Decoder Architectures\n",
    "3. Dilated convolutions\n",
    "4. Attention mechanisms\n",
    "5. Deep lab"
   ]
  }
 ],
 "metadata": {
  "language_info": {
   "name": "python"
  }
 },
 "nbformat": 4,
 "nbformat_minor": 2
}
