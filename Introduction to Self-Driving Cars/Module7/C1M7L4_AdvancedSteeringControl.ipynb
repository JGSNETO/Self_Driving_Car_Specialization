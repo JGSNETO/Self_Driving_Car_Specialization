{
 "cells": [
  {
   "cell_type": "markdown",
   "id": "10202434",
   "metadata": {},
   "source": [
    "# Advanced Steering Control\n",
    "\n",
    "\n",
    "## Model predective control\n",
    "\n",
    "- Numerically solving an optimization problem at each time stemp. \n",
    "- Receding horizon approach. \n",
    "\n",
    "## Advantages of MPC\n",
    "\n",
    "- Straightforward formulation\n",
    "- Explicity handles constraints\n",
    "- Applicable to linear or nonlinear models\n",
    "\n",
    "## Disavantages of MPC\n",
    "\n",
    "- Cimputationally expensive\n",
    "\n",
    "## Cost Function - Minimize\n",
    "\n",
    "- Deviation from desired trajectory\n",
    "- Minimization of control command magnitude\n",
    "\n",
    "## Constraints - Subject to\n",
    "\n",
    "- Longitudinal and lateral dynamic models\n",
    "- Tire force limits\n",
    "\n",
    "## Can incorporate low level controller, adding constraints for:\n",
    "\n",
    "- Engine map\n",
    "- Full dynamic vehicle model\n",
    "- Actuator models\n",
    "- Tire force models"
   ]
  },
  {
   "cell_type": "code",
   "execution_count": null,
   "id": "40f10c49",
   "metadata": {},
   "outputs": [],
   "source": []
  }
 ],
 "metadata": {
  "kernelspec": {
   "display_name": "Python 3 (ipykernel)",
   "language": "python",
   "name": "python3"
  },
  "language_info": {
   "codemirror_mode": {
    "name": "ipython",
    "version": 3
   },
   "file_extension": ".py",
   "mimetype": "text/x-python",
   "name": "python",
   "nbconvert_exporter": "python",
   "pygments_lexer": "ipython3",
   "version": "3.7.0"
  }
 },
 "nbformat": 4,
 "nbformat_minor": 5
}
