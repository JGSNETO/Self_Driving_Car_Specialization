{
 "cells": [
  {
   "cell_type": "markdown",
   "metadata": {},
   "source": [
    "# Data Splits\n",
    "\n",
    "- Training split: Used to minimize the loss function\n",
    "- Validation split: Ued to choose best hyperparameters, such as the learning rate, number of layers, etc. \n",
    "- Test Split: The neural network never observes this set. The developer never uses this set in the design process. \n",
    "\n",
    "## Reducing the effect of underfitting/overfitting\n",
    "\n",
    "- Underfitting: Training loss ig high\n",
    "1. Train longer\n",
    "2. More layers or more parameters per layer\n",
    "3. Change architecture\n",
    "\n",
    "- Overfitting: (Generalization gap is large)\n",
    "1. More training data\n",
    "2. Regularization\n",
    "3. Change architecture\n",
    "\n",
    "## Summary\n",
    "\n",
    "- A dataset should be split to a training, a validation and a test split\n",
    "- Observing the performance on each of these splits helps in determining why a neural network is not performing well in the real world\n",
    "- Underfitting: Train longer or use a large neural network\n",
    "- Overfitting: Regularization"
   ]
  }
 ],
 "metadata": {
  "language_info": {
   "name": "python"
  }
 },
 "nbformat": 4,
 "nbformat_minor": 2
}
