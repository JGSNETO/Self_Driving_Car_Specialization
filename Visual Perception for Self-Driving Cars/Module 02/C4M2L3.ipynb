{
 "cells": [
  {
   "cell_type": "markdown",
   "metadata": {},
   "source": [
    "# Feature Matching\n",
    "\n",
    "- Brute force feature matching might not be fast enough for extremely large amounts of features\n",
    "- Use a multidimensional search tree, usually a k-d tree to speed the search by constraining it spatially\n",
    "- Both of these matchers are implemented in OpenCV."
   ]
  }
 ],
 "metadata": {
  "language_info": {
   "name": "python"
  }
 },
 "nbformat": 4,
 "nbformat_minor": 2
}
