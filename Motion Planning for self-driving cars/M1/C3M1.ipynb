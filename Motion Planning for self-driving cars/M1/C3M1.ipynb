{
 "cells": [
  {
   "cell_type": "markdown",
   "metadata": {},
   "source": [
    "# Welcome to the Course\n",
    "\n",
    "- Motion Planning problem: The task of generating the path and velocities required to get the autonomous car from point A to point B. \n",
    "\n",
    "## Modules: Motion Planning problem\n",
    "\n",
    "1. Mission Planner: Map level navigation which you are likely familiar with from planning trips with online mapping tools.\n",
    "2. Behaviour planning: Which ensures our driving behaviour follows the rules of the road.\n",
    "3. Local planning: Which ensures our paths are smooth and colision-free. \n",
    "\n",
    "## Modules: Occupancy Grid Mapping\n",
    "\n",
    "- How we represent static obstacles that our planner must avoid during the planning process. \n",
    "\n",
    "## Modules: Mission Planning\n",
    "\n",
    "- Use the maps generated in module 2 to move as efficiently as possible.\n",
    "\n",
    "## Modules: Dynamic object Interations\n",
    "\n",
    "- How the aoutonomous vehicle interacts with the other moving objects in the scene.\n",
    "\n",
    "## Modules: Behaviour Planning\n",
    "\n",
    "- Determining which behaviour the autonomous vehicle should exhibit, depending on the vehicles surround environment.\n",
    "\n",
    "## Modules: Reactive Planning\n",
    "\n",
    "- To generate trajectories for a bicycle model, which we introduced in course one\n",
    "\n",
    "## Smooth Local Planning\n",
    "\n",
    "- We conclude by creating a decoupled path planner and velocity profile generator that builds upon our reactive planner. It can generate paths and velocity profiles, that can be used by an autonomous vehicle for on-road driving"
   ]
  }
 ],
 "metadata": {
  "language_info": {
   "name": "python"
  }
 },
 "nbformat": 4,
 "nbformat_minor": 2
}
