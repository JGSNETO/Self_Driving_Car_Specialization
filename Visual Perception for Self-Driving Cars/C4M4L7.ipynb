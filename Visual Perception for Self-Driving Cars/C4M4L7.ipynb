{
 "cells": [
  {
   "cell_type": "markdown",
   "metadata": {},
   "source": [
    "# Convolutional Neural Network\n",
    "\n",
    "- A convoltional neural network (CNN) is a type of neural network designed to process and analyse visual data like images. It works by using layers to automatically and adaptively learn spatial hierarchies of features from input data. \n",
    "\n",
    "- Key components include:\n",
    "1. Convolutional Layers: Detect features (e.g: edges, textures) by applying filters (kernels) accross the input. \n",
    "2. Poling layers: Reduce the spatial size of feature maps to make computations faster and more robuts.\n",
    "3. Fully connected layers: Combine learned features to make predictions (e.g: classification).\n",
    "4. Activation functions: Add non-linearity, allowing the network to model complext patterns. \n",
    "- CNNs are widely used in image recognition, object detection, and other vision task. "
   ]
  }
 ],
 "metadata": {
  "language_info": {
   "name": "python"
  }
 },
 "nbformat": 4,
 "nbformat_minor": 2
}
