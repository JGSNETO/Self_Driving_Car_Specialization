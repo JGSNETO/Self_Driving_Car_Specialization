{
 "cells": [
  {
   "cell_type": "markdown",
   "metadata": {},
   "source": [
    "# Kalman Filter\n",
    "\n",
    "- In today's world of advanced machine learning, the Kalman filter remains an important tool to fuse measurements from several sensors to estimate in real-time the state of a robotic system such as a self-driving car.\n",
    "- The Kalman filter is very similar to the linear recursive least squares filter we discussed earlier. \n",
    "- While recursive least squares updates the estimate of a static parameter, but Kalman filter is able to update and estimate of an evolving state. \n",
    "- The goal of the Kalman filter is to take a probabilistic estimate of this state and update it in real time using two steps; prediction and correction.\n",
    "\n",
    "## The kalman Filter | Recursive Least Squares + Process Model\n",
    "- the Kalman filter is a recursive least squares estimator that also includes a motion model. "
   ]
  },
  {
   "cell_type": "markdown",
   "metadata": {},
   "source": [
    "# Kalman Filter and the Bias BLUEs\n",
    "\n",
    "- Best Linear Unbiased Estimator(BLUE)\n",
    "- We say an estimator or filter is unbiased if it produces an 'average' error of zero at a particular time step k, over many trials.\n",
    "- We have shown that given our linear formulation, and zero-mean, white noise the kalman Filter is unbiased.\n",
    "- The Kalman filter is:\n",
    "1. Unbiased\n",
    "2. Consistent\n",
    "3. The lowest variance estimator that uses a linear combination of measurements: BLUE"
   ]
  },
  {
   "cell_type": "markdown",
   "metadata": {},
   "source": [
    "# Going Nonlinear - The extended Kalman Filter\n",
    "\n",
    "- The linear Kalman filter cannot be used directly to estimate states that are non-linear functions of either the measurements or the control inputs.\n",
    "- The extended Kalman filter, or EKF. The EKF is designed to work with nonlinear systems, and it's often considered one of the workhorses of state estimation, because it's used in all sorts of applications including self-driving cars.\n",
    "- The filter works by first predicting the mean and covariance of the updated state estimate at some time step k, based on the previous state and any inputs we give to the system such as the position of the accelerator pedal. The filter then uses a measurement model to predict what measurements should arrive based on the state estimate, and compares these predictions with the measurements that actually arrive from our sensors.\n",
    "- The EKF uses linearization to adapt the Kalman Filter to nonlinear systems.\n",
    "- Linearization works by computing a local linear approximation to a nonlinear function about a chosen operating point.\n",
    "- Linearization relies on computing Jacobian matrices, which contain all the first-order partial derivatives of a function.\n",
    "\n",
    "## EKF | Linearizing a NonLinear System\n",
    "\n",
    "- Choose an operating point a and approximate the nonlinear function by a tangent line at that point. \n",
    "- For the EFK, we choose the operating point to be our most recent state estimate, our known input, and zero noise. "
   ]
  },
  {
   "cell_type": "markdown",
   "metadata": {},
   "source": [
    "# An improved EKF - The error State Extended Kalman Filter: The error State EKF\n",
    "\n",
    "- What is in a State: True stat = Nominal state (\"Large\") + Error State (\"Small\").\n",
    "- The Error-State Extended Klaman Filter estimates the error state directly and uses it as correction to the nominal state. \n",
    "\n",
    "## Why use the ES-EKF ?\n",
    "\n",
    "1. Better performance compared to the vanilla EKF: The small error state is more amenable to linear filtering than the \"large\" nominal state, which can be integrated nonlinearly. \n",
    "2. Easy to work with constrained quantities(e.g., rotation in 3D): We can also break down the state using a generalized composition operator.\n",
    "\n",
    "## Summary\n",
    "\n",
    "- The error state formulation separates the state into a \"large\" nominal state and a \"small\" error state. \n",
    "- The ES-EKF uses local linearization to estimate the error state and uses it to correct the nominal state.\n",
    "- The ES-EKF can perform better than the vanilla EKF, and provides a natural way to handle contrained quantities like rotations in 3D. "
   ]
  },
  {
   "cell_type": "markdown",
   "metadata": {},
   "source": [
    "# Limitations of the EKF | Linearization error \n",
    "\n",
    "- The EKF works by linearizing the nonlinear motion and measurement models to update the mean and covariance of the state.\n",
    "- The difference between the linear approximation and the nonlinear function is called linearization error.\n",
    "- In general, linearization error depends on:\n",
    "1. How nonlinear the function is.\n",
    "2. How far away from the operating point the linear approximation is being used.\n",
    "\n",
    "## Linearization Error\n",
    "\n",
    "- The EFK is prone to linearization error when:\n",
    "1. The system dynamics are highly nonlinear\n",
    "2. The sensor sampling time is slow relative how fast the system is evolving\n",
    "\n",
    "- This has two important consequences:\n",
    "1. The estimated mean state can become very different from the true state.\n",
    "2. The estimated state covariance can fail to capture the true uncertainty in the state.\n",
    "\n",
    "- Linearization error can cause the estimator to be overconfident in a wrong answer!\n",
    "\n",
    "## Computing Jacobians\n",
    "\n",
    "- Computing Jacobian matrices for complicated nonlinear functions is also a common source of error in EKF implementations!\n",
    "1. Analytical differentiation is prone to human error\n",
    "2. Numerical differentiation can be slow and unstable\n",
    "3. Automatic differentiation(e.g, at compile time) can also behave unpredictably.\n",
    "\n"
   ]
  },
  {
   "cell_type": "markdown",
   "metadata": {},
   "source": [
    "# An alternative to the EKF: The unscented Kalman Filter\n",
    "\n",
    "## The Unscented Kalman Filter(UKF)\n",
    "\n",
    "- It is easier to approximate a probability distribution than it is to approximate an arbitraty nonlinear function.\n",
    "- The UFK uses the unscented transform to adapt the Kalman filter to nonlinear systems.\n",
    "- The unscented transform works by passing a small set of carefully chosen samples through a nonlinear system, and computing the mean and covariance of the outputs.\n",
    "- The unscented transform does a better job of approximating the output distribution than analytical local linearization, for similar computational cost.\n",
    "\n",
    "## Kalman Filtering\n",
    "\n",
    "- The Kalman filter(KF) is a form of recursive least-squares estimation that allows us to combine information from a motion model and sensor measurements.\n",
    "- The KF uses the motion model to make predictions of the state, and uses the measurements to make corrections to the predictions.\n",
    "- The KF is the Best Linear Unbiased Estimator(BLUE)\n"
   ]
  },
  {
   "cell_type": "code",
   "execution_count": null,
   "metadata": {},
   "outputs": [],
   "source": []
  }
 ],
 "metadata": {
  "kernelspec": {
   "display_name": "Python 3 (ipykernel)",
   "language": "python",
   "name": "python3"
  },
  "language_info": {
   "codemirror_mode": {
    "name": "ipython",
    "version": 3
   },
   "file_extension": ".py",
   "mimetype": "text/x-python",
   "name": "python",
   "nbconvert_exporter": "python",
   "pygments_lexer": "ipython3",
   "version": "3.8.0"
  }
 },
 "nbformat": 4,
 "nbformat_minor": 4
}
