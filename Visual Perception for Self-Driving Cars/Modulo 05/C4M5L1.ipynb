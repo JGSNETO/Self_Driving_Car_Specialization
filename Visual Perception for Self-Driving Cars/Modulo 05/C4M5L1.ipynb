{
 "cells": [
  {
   "cell_type": "markdown",
   "metadata": {},
   "source": [
    "# The object detection problem \n",
    "\n",
    "## Object detection is not trivial \n",
    "\n",
    "- Extent of objects is not fully observed\n",
    "1. Occlusion: Background objects covered by foreground objects.\n",
    "2. Truncantion: Objects are out of image boundaries\n",
    "\n",
    "- Scale: Object size get smaller as the object moves farther away. \n",
    "- Illumination Changes:\n",
    "1. Too bright\n",
    "2. Too dark\n",
    "\n",
    "## Evaluation metrics\n",
    "\n",
    "- False positive\n",
    "- False negative\n",
    "- True positive\n",
    "- Precision\n",
    "- Recall\n",
    "- Precision Recall Curve\n",
    "- Average Precision \n",
    "\n",
    "## Summary\n",
    "\n",
    "- 2D bject detection comprises of location an object and determining what the object is\n",
    "- 2D object detectors are evaluated using the average precision metric, at a specific threshold"
   ]
  }
 ],
 "metadata": {
  "language_info": {
   "name": "python"
  }
 },
 "nbformat": 4,
 "nbformat_minor": 2
}
