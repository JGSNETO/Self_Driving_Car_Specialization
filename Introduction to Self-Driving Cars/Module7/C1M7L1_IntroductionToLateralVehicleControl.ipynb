{
 "cells": [
  {
   "cell_type": "markdown",
   "id": "a001445f",
   "metadata": {},
   "source": [
    "# Lateral Control Design\n",
    "\n",
    "- This is the main goal of lateral control which must select the steering angle required to correct any errors that accumulate and track changes in the path direction as they appear. \n",
    "1. Define error relative to desired path\n",
    "2. Select a control law that drives errors to zero and satisfies input contraints\n",
    "3. Add dynamic considerations to manage forces and moments acting on vehicle\n",
    "\n",
    "## The reference path\n",
    "- Track:\n",
    "1. *Straight and line segments*: The easiest approach is to define a sequence of straight line segments by requiring a sequence of end point vertices that are connected linearly. This path definition can be very compact and easy to construct, assuming points are well spaced and the environment allows for mostly straight line motion, as in a Manhattan grid of roadways. However, the path includes heading discontinuities, which make precise tracking a challenge with a steered vehicle. \n",
    "2. *Waypoints*: A refinement of the line segment approach is to provide a series of tightly spaced waypoints. This spacing is usually fixed in terms of distance or travel time. The relative position of the waypoints can be restricted to satisfy an approximate curvature constraint. Waypoint paths are very common, as they are easy to work with and can be directly constructed from state estimates or GPS waypoints collected in earlier runs of a particular route. \n",
    "3. *Parameterized curves*: It is also possible to define a path using a sequence of continuous parameterized curves, which can be either drawn from a fixed set of motion primitives or can be identified through optimization during planning. These curves provide the benefit of continuously varying motion, and can be constructed to have smooth derivatives to aid in the consistency of error and error rate calculations.\n",
    "\n",
    "- Main goals:\n",
    "1. Heading path alignment \n",
    "2. Elimination of offset to path\n",
    "\n",
    "## Two types of control Design\n",
    "\n",
    "1. Geometric Controllers\n",
    "- Pure pursuit(Carrot following)\n",
    "- Stanley\n",
    "\n",
    "2. Dynamic controllers\n",
    "- MPC Control\n",
    "- Other control systems: Sliding mode, feedback linearization\n",
    "\n",
    "## Plant Model\n",
    "\n",
    "- Vehicle (bicycle) model & Parameters\n",
    "1. All states variables and inputs defined relative to the centre of front axel.\n",
    "\n",
    "- Controller error terms\n",
    "1. Heading error: Component of velocity perpendicular to trajectory divided by ICR radius.\n",
    "2. Crosstrack error(e): Distance from center of front axle to the closedt point on path."
   ]
  },
  {
   "cell_type": "code",
   "execution_count": null,
   "id": "21293805",
   "metadata": {},
   "outputs": [],
   "source": []
  }
 ],
 "metadata": {
  "kernelspec": {
   "display_name": "Python 3 (ipykernel)",
   "language": "python",
   "name": "python3"
  },
  "language_info": {
   "codemirror_mode": {
    "name": "ipython",
    "version": 3
   },
   "file_extension": ".py",
   "mimetype": "text/x-python",
   "name": "python",
   "nbconvert_exporter": "python",
   "pygments_lexer": "ipython3",
   "version": "3.7.0"
  }
 },
 "nbformat": 4,
 "nbformat_minor": 5
}
