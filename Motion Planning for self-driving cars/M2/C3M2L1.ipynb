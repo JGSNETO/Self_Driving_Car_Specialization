{
 "cells": [
  {
   "cell_type": "markdown",
   "metadata": {},
   "source": [
    "# Learning Objectives\n",
    "\n",
    "- Understand what the autonomous driving motion planning mission entails\n",
    "- Identify important autonomous driving scenarios based on the road structure and obstacles present \n",
    "- Identify useful driving behaviours to handle autonomous driving scenarios\n",
    "\n",
    "# Autonomous Driving Mission\n",
    "\n",
    "- Mission is to navigate from point A to point B on the map\n",
    "- Mission planning is higher-level planning\n",
    "- Low-level details are abstracted away\n",
    "- Goal is to find most efficient path\n",
    "\n",
    "# Hierarchical Planning Introduction\n",
    "\n",
    "- Driving mission ans scenarios are complex problems\n",
    "- Break them into a hierarchy of optimization problems\n",
    "- Each optimization problem tailored to the correct scope and level of abstraction\n",
    "- Higher in the hierarchy means more abstraction\n",
    "- Each optimization problem will constraints and objective functions"
   ]
  }
 ],
 "metadata": {
  "language_info": {
   "name": "python"
  }
 },
 "nbformat": 4,
 "nbformat_minor": 2
}
