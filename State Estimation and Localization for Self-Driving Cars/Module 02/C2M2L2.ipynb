{
 "cells": [
  {
   "cell_type": "markdown",
   "id": "6f9d4343-4ffb-403c-8d5a-af65709c068a",
   "metadata": {},
   "source": [
    "# Squared Error Criterion and the Method of Least Squares\n",
    "\n",
    "- Suppose we take measure,ents with multiple multimeters, some of which are better than others.\n",
    "- Independent and Identically distributed: Each random variable follows the same probability distribution and all the variables are mutually independent (i.e., the cross-covariance of any pair is zero).\n"
   ]
  }
 ],
 "metadata": {
  "kernelspec": {
   "display_name": "Python 3 (ipykernel)",
   "language": "python",
   "name": "python3"
  },
  "language_info": {
   "codemirror_mode": {
    "name": "ipython",
    "version": 3
   },
   "file_extension": ".py",
   "mimetype": "text/x-python",
   "name": "python",
   "nbconvert_exporter": "python",
   "pygments_lexer": "ipython3",
   "version": "3.8.0"
  }
 },
 "nbformat": 4,
 "nbformat_minor": 5
}
