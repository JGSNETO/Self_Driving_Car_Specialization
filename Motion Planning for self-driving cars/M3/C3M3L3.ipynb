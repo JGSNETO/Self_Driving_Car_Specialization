{
 "cells": [
  {
   "cell_type": "markdown",
   "metadata": {},
   "source": [
    "# Ray tracing\n",
    "\n",
    "- Ray tracing is a computer graphics technique used to simulate realistic lightning and shadows in digital images by tracing the path of light rays as they interact with objects in a scene. By calculating how light travels, reflects, refracts and is absorved, ray tracing can produce highly realistic visuals that closely mimic real-world lighting effects. \n",
    "\n",
    "## Inverse measurement module with ray tracing \n",
    "\n",
    "- Ray tracing algorithm using bresenham's line algorithm.\n",
    "- Rasterized line algorithm\n",
    "- Uses very cheap fixed point operations for fast calculation\n",
    "- Perform update on each beam from the LIDAR rather then each cell on the grid\n",
    "- Performs far fewer updates\n",
    "- Much cheaper per operation"
   ]
  }
 ],
 "metadata": {
  "language_info": {
   "name": "python"
  }
 },
 "nbformat": 4,
 "nbformat_minor": 2
}
