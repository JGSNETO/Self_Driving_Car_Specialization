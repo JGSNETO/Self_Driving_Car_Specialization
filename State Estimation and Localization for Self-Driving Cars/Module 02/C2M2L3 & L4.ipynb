{
 "cells": [
  {
   "cell_type": "markdown",
   "id": "96380ee5-eecf-4d6d-b6fe-d9c909aa90b4",
   "metadata": {},
   "source": [
    "# Recursive Least Squares\n",
    "\n",
    "- In our formulation, we assumed we had all of our measurements available when we computed our estimate.\n",
    "- What happens if we have a stream of data ? Do we need to re-solve for our solution every time ?\n",
    "- We can use a linear recursive estimator.\n",
    "- We update our new state as a linear combination of the previous best guess and the current measurement residual (or error), weighted by a gain matrin Kx.\n",
    "- We can calculate Kx it by minimizing a similar least squares criterion, but this time we will use a probabilistic formulation.\n",
    "- We wish to minimize the expected value of the sum of squared errors of our current estimate at time step.\n",
    "- RLS produces a 'running estimate' of parameters(s) for a stream of measurements.\n",
    "- RLS is a linear recursive estimator that minimizes the (co)variabce of the parameter(s) at the current time."
   ]
  },
  {
   "cell_type": "markdown",
   "id": "695ecf66-9a1c-42da-a108-5553b17a93f2",
   "metadata": {},
   "source": [
    "# Least Squares and the Method of Maximum Likelihood\n",
    "\n",
    "- Squared errors allow us to solve for the optimal parameters with relatively straightforward algebra.\n",
    "- LS and WLS produce the same estimates as maximum likelihood assuming Gaussian noise.\n",
    "- CLT states that complex errors will tend towards a Gaussian distribution.\n",
    "- Least squares estimates are significantly affected by outliers.\n",
    "\n",
    "## The method of maximum likelihood\n",
    "\n",
    "- We can ask which x makes our measurement most likely. Or, in other words, which x maximizes the conditional probability of y. \n",
    "\n",
    "## The Central Limit Theorem\n",
    "\n",
    "- In realistic systems like self-driving cars, there are many sources of 'noise'.\n",
    "- Central Limit Theorem: When independent random variables are added, their normalized sum tends towards a normal distribution. "
   ]
  },
  {
   "cell_type": "code",
   "execution_count": null,
   "id": "008b0aa1-209c-45ed-ab4c-f0cd21594c66",
   "metadata": {},
   "outputs": [],
   "source": []
  }
 ],
 "metadata": {
  "kernelspec": {
   "display_name": "Python 3 (ipykernel)",
   "language": "python",
   "name": "python3"
  },
  "language_info": {
   "codemirror_mode": {
    "name": "ipython",
    "version": 3
   },
   "file_extension": ".py",
   "mimetype": "text/x-python",
   "name": "python",
   "nbconvert_exporter": "python",
   "pygments_lexer": "ipython3",
   "version": "3.8.0"
  }
 },
 "nbformat": 4,
 "nbformat_minor": 5
}
