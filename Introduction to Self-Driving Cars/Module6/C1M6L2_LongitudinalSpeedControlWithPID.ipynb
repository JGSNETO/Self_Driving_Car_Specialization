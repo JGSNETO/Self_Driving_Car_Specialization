{
 "cells": [
  {
   "cell_type": "markdown",
   "id": "a738dfd1",
   "metadata": {},
   "source": [
    "# Architecture of Vehicle Control Strategy\n",
    "\n",
    "1. Perception\n",
    "2. Speed Profile generation + Path generation = Reference Generation\n",
    "3. Longitudinal Control + Lateral Control = Control\n",
    "4. Throttle/Braking + Steering = Actuation\n",
    "\n",
    "## Longitudinal Speed Control\n",
    "\n",
    "- Cruise control: Speed of the vehicle is controlled (by throttling and braking) to be kept at the reference speed. \n",
    "\n",
    "## Upper or High Level Contoller\n",
    "\n",
    "- Determines the desired acceleration for the vehicle (based on the reference and atual velocity)\n",
    "\n",
    "## Lower Level Controller\n",
    "\n",
    "- Throttle input is calculated such that the vehicle track the desired acceleration determined by the upper level controller.\n",
    "- Assumptions:\n",
    "1. Only throttle acutations is considered(no braking)\n",
    "2. The torque converter is locked (gear 3+)\n",
    "3. The tire slip is small (gentle longitudinal maneuvers)"
   ]
  },
  {
   "cell_type": "code",
   "execution_count": null,
   "id": "4a984415",
   "metadata": {},
   "outputs": [],
   "source": []
  }
 ],
 "metadata": {
  "kernelspec": {
   "display_name": "Python 3 (ipykernel)",
   "language": "python",
   "name": "python3"
  },
  "language_info": {
   "codemirror_mode": {
    "name": "ipython",
    "version": 3
   },
   "file_extension": ".py",
   "mimetype": "text/x-python",
   "name": "python",
   "nbconvert_exporter": "python",
   "pygments_lexer": "ipython3",
   "version": "3.7.0"
  }
 },
 "nbformat": 4,
 "nbformat_minor": 5
}
