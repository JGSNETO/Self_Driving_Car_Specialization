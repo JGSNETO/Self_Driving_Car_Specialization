{
 "cells": [
  {
   "cell_type": "markdown",
   "metadata": {},
   "source": [
    "# Feed-forward neural network (FNN)\n",
    "\n",
    "- Is a type of artificial network where connections between nodes flow in one direction, fro the input layer, through one or more hidden layers, to the aoutput layer. Unlike recurrent neural networks, FNNs do not have loops or cycles, meaning the data moves forward only. They are commonly used for tasks like classification, regression, and pattern recognition. \n",
    "\n",
    "## Functions to estimate\n",
    "\n",
    "- Object classification\n",
    "- Object detection\n",
    "- Depth estimation\n",
    "- Semantic segmentation\n",
    "\n",
    "## Summary\n",
    "\n",
    "- Feedforward neural network can be used for a variaty of perception tasks related to self-driving cars.\n",
    "- Feedforward neural networks rely on hidden layers to implement a good approximation of target function\n",
    "- Various activation functions are available to use within hdden layers. "
   ]
  }
 ],
 "metadata": {
  "language_info": {
   "name": "python"
  }
 },
 "nbformat": 4,
 "nbformat_minor": 2
}
