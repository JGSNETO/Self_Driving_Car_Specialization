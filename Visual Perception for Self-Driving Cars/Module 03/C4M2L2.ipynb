{
 "cells": [
  {
   "cell_type": "markdown",
   "metadata": {},
   "source": [
    "# Image Feature Descriptors\n",
    "\n",
    "- Feature: Point of interest in an image defined by its image pixel coordinates [u, v]\n",
    "- Descriptior: An N-dimensional vector that provides a summary of the image information around detected feature. \n",
    "\n",
    "## Feature Descriptors:\n",
    "\n",
    "- Features descriprtos should have the following characteristics:\n",
    "1. Repeatability: manifested as robustness an invariance to translation, rotation, scale and illuination changes. \n",
    "2. Distinctiveness: Should allow us to distinguish between two close by features, very important for matching later on.\n",
    "3. Compactness & Efficiency: Reasonable computation time\n",
    "\n",
    "## Summary\n",
    "\n",
    "- Feature descriptors are N-dimensional vectors characterizing an image's point of interest.\n",
    "- Features descriptors should be repeatable, distinctive, compact and efficient. "
   ]
  }
 ],
 "metadata": {
  "language_info": {
   "name": "python"
  }
 },
 "nbformat": 4,
 "nbformat_minor": 2
}
