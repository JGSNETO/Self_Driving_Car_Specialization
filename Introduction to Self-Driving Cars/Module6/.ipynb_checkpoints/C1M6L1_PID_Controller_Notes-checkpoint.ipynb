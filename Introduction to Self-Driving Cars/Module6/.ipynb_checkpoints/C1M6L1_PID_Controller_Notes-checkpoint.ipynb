{
 "cells": [
  {
   "cell_type": "markdown",
   "id": "bffcf5cd",
   "metadata": {},
   "source": [
    "# Control Development\n",
    "\n",
    "- These models aim to capture how the dynamic system reacts to input commands from the driver such as steering gas and break and how it reacts to disturbances such as wind, road surface and different vehicle loads. \n",
    "- The effects of the inputs and disturbances on the states such as velocity and rotation rate of the vehicle are defined by the kinematic and dynamic models we developed. \n",
    "- The role of the controller then is to regulate some of these states of the vehicle by sensing the current state variables and then generating actuator signals to satisfy the commands provided.\n",
    "-  For longitudinal control, the controller sensing the vehicle speed and adjust the throttle and break commands to match the desired speed set by the autonomous motion planning system\n",
    "\n",
    "# Plant System or Process\n",
    "\n",
    "## System Representation:\n",
    "\n",
    "1. The plant system could be linear or non linear\n",
    "2. Plant representation: state-space,  which tracks the evolution of an internal state to connect the input to the output, and transfer functions, which models the input to output relation directly. For transfer functions, the system must be linear and time-invariant.\n",
    "3. Linear time-invariant system can be expressed using transfer function\n",
    "## Transfer function:\n",
    "\n",
    "- A transfer function is a releation between input and output.\n",
    "- We use the Laplace transform to go from the time domain to the S domain because it allows for easier analysis of an input-output relation and is useful in understanding control performance. \n",
    "- When working with the transfer functions, the numerator and denominator roots provide powerful insight into the response of a system to input functions. \n",
    "- The zeros of a system are the roots of the numerator and the poles of the system are the roots of its denominator. \n",
    "\n",
    "1. What are the main reasons of using the Laplace transform in control loop system ?\n",
    "- Having the controlled system components written in Laplace form makes it easier to determine the transfer function of the system\n",
    "- Laplace transform gives a useful insight into understanding control performance\n",
    "\n",
    "# Controller or compensator\n",
    "\n",
    "- Control algorithms can vary from simple to conplex.\n",
    "- Some simple algorithms, widely used in industry:\n",
    "1. Lead-lag controllers\n",
    "2. PID controllets\n",
    "\n",
    "- More complex algorithms:\n",
    "1. Nonlinear methods: Feedback linearization, Backstepping, sliding mode\n",
    "2. Optimization methods: Model predictive control\n",
    "\n",
    "# PID Controller\n",
    "\n",
    "- PID control is mathematically formulated by adding three terms dependent on the error function. A proportional term directly proportional to the error E, an integral term proportional to the integral of the error, and a derivative term proportional to the derivative of the error. \n",
    "- Taking the Laplace transform of the PID control yields the transfer function Gc of s. Multiplying by s in the Laplace domain is equivalent to taking a derivative in the time domain and dividing by s is equivalent to taking the integral.\n",
    "-  Note that not all gains need to be used for all systems.\n",
    "- The pole is at the origin.\n",
    "- The zeros can be arbitrary places on the complext plane.\n",
    "- PID controller design selects zero locations, by selecting P, I, and D gains.\n",
    "- Closed loop response denotes the response of a system when the controller decides the inputs to apply to the plant model.\n",
    "- *The rise time* as the time it takes to reach 90 percent of the reference value. \n",
    "- *The overshoot* as the maximum percentage the output exceeds this reference. \n",
    "- *The settling time* as the time to settle to within five percent of the reference and the steady-state error as the error between the output and the reference at steady-state. \n",
    "\n",
    "## Closed loop controller\n",
    "\n",
    "-  If a controller is added to the plant and the output of the model is measured and compared with the desired output or reference signal, then the response of the system is called the closed loop response."
   ]
  },
  {
   "cell_type": "code",
   "execution_count": null,
   "id": "65e9eada",
   "metadata": {},
   "outputs": [],
   "source": []
  }
 ],
 "metadata": {
  "kernelspec": {
   "display_name": "Python 3 (ipykernel)",
   "language": "python",
   "name": "python3"
  },
  "language_info": {
   "codemirror_mode": {
    "name": "ipython",
    "version": 3
   },
   "file_extension": ".py",
   "mimetype": "text/x-python",
   "name": "python",
   "nbconvert_exporter": "python",
   "pygments_lexer": "ipython3",
   "version": "3.7.0"
  }
 },
 "nbformat": 4,
 "nbformat_minor": 5
}
