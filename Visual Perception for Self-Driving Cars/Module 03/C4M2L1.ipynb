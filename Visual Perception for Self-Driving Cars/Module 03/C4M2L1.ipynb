{
 "cells": [
  {
   "cell_type": "markdown",
   "metadata": {},
   "source": [
    "# Image Feaures\n",
    "\n",
    "## Feature Detection\n",
    "\n",
    "- Features are points of interest in an image.\n",
    "- Points of interest should have the following characteristics:\n",
    "1. Salience: Distinctive, identifiable, and different from its immediage neighborhood. \n",
    "2. Repeatability: Can be found in multiple images using same operations.\n",
    "3. Locality: Occupies a relatively small subset of image space. \n",
    "4. Quantify: Enough points represented in the image.\n",
    "5. Efficiency: Reasonable computation time. \n",
    "\n",
    "## Feature Extraction\n",
    "\n",
    "- Repetitiuve texture less patches are challenging to detect consistently.\n",
    "- Patches with large contrast changes (gradients) are easier to detect (edges)\n",
    "- Gradients in at least two (significantly) different orientations are the easiest to detect (corners)\n",
    "\n",
    "## Summary\n",
    "\n",
    "- Good image features need to be salient, repeatable, local, efficient, and numerous. \n",
    "- Plenty of methods exist to extract features.\n",
    "- Empirical validation is required to choose the best extractor based on application."
   ]
  }
 ],
 "metadata": {
  "language_info": {
   "name": "python"
  }
 },
 "nbformat": 4,
 "nbformat_minor": 2
}
