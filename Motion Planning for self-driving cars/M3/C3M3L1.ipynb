{
 "cells": [
  {
   "cell_type": "markdown",
   "metadata": {},
   "source": [
    "# Occupancy grid\n",
    "\n",
    "- Discretized fine grain grid map: Which can be 2D or 3D\n",
    "- Occupancy by static object:\n",
    "1. Trees and buildings\n",
    "2. Curbs and other non drivavle surfaces\n",
    "- Each cell is a binary value\n",
    "\n",
    "## Assumption of occupancy grid\n",
    "\n",
    "- Static environment \n",
    "- Independence of each cell\n",
    "- Known vehicle state at each time step"
   ]
  }
 ],
 "metadata": {
  "language_info": {
   "name": "python"
  }
 },
 "nbformat": 4,
 "nbformat_minor": 2
}
