{
 "cells": [
  {
   "cell_type": "markdown",
   "metadata": {},
   "source": [
    "# Behavioural Planner Reference Velocity\n",
    "\n",
    "- Need to compute reference velocity\n",
    "- Can use the speed limit of the road as a starting point\n",
    "- Behavioural planner maneuver will also influence reference velocity: e.g. a stopping maneuver requires us to stop."
   ]
  }
 ],
 "metadata": {
  "language_info": {
   "name": "python"
  }
 },
 "nbformat": 4,
 "nbformat_minor": 2
}
