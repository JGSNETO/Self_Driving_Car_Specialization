{
 "cells": [
  {
   "cell_type": "markdown",
   "id": "a321effe-6793-4fc1-a487-abfee09f96c1",
   "metadata": {},
   "source": [
    "# Squared Error Criterion and the Method of least Squares\n",
    "\n",
    "- Localization: Method by which we determine the position and orientation of a vehicle within the world.\n",
    "- If we want to drive autonomously, we certainly need to know where we are.\n",
    "- Position and orientation are states of a moving veicle, while the resistance of a particular resistor would be a parameter.\n",
    "\n",
    "## Least Squares\n",
    "\n",
    "- The most probable value of the unknown quantities will be that in which the sum of the squares of the differences between the actually observed and the computed values multiplied by numbers that measure the defree of precision is a minimum: The mean of the measurements.\n",
    "\n",
    "- Assumptions:\n",
    "1. Our measurement model, u = x + v, is linear.\n",
    "2. Measuremts are equally weighted(We do not suspect that some have more noise than others)."
   ]
  },
  {
   "cell_type": "code",
   "execution_count": null,
   "id": "1ca8c951-309d-4245-88f8-23788787f2d6",
   "metadata": {},
   "outputs": [],
   "source": []
  }
 ],
 "metadata": {
  "kernelspec": {
   "display_name": "Python 3 (ipykernel)",
   "language": "python",
   "name": "python3"
  },
  "language_info": {
   "codemirror_mode": {
    "name": "ipython",
    "version": 3
   },
   "file_extension": ".py",
   "mimetype": "text/x-python",
   "name": "python",
   "nbconvert_exporter": "python",
   "pygments_lexer": "ipython3",
   "version": "3.8.0"
  }
 },
 "nbformat": 4,
 "nbformat_minor": 5
}
