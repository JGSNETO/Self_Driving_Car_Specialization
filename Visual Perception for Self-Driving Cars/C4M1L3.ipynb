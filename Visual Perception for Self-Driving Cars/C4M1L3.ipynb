{
 "cells": [
  {
   "cell_type": "markdown",
   "metadata": {},
   "source": [
    "# Camera Calibration\n",
    "\n",
    "## Linear Methods\n",
    "\n",
    "- Advantages of such a simple linear system are:\n",
    "1. Easy to formulate\n",
    "2. Closed form solution\n",
    "\n",
    "- Disavanages of such simple linear system are:\n",
    "1. Does not derectly provide camera parameters\n",
    "2. Does not model radial distortion an other complex phenomena \n",
    "3. Does not allow for consraints such as known focal length to be imposed\n",
    "\n",
    "## Summary\n",
    "\n",
    "- The camera matrix P can be found through a process known as camera calibration\n",
    "- The intrinsic and extrinsic camera paremeters can be extracted from the P matrix using RQ factorization"
   ]
  }
 ],
 "metadata": {
  "language_info": {
   "name": "python"
  }
 },
 "nbformat": 4,
 "nbformat_minor": 2
}
