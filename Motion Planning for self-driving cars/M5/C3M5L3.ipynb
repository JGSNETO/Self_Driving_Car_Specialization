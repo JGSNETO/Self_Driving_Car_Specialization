{
 "cells": [
  {
   "cell_type": "markdown",
   "metadata": {},
   "source": [
    "# Definition of time to collision\n",
    "\n",
    "- Assuming all dynamic object continue along their predicted path: \n",
    "1. Will then be a collision between any of the objects \n",
    "2. If so how far into the future\n",
    "\n",
    "- Time to collision is comprised of:\n",
    "1. Collision point between the two dynamic objects \n",
    "2. Prediction of the time to arrive to the collision point\n",
    "\n",
    "- Requirements for accuracy:\n",
    "1. Accurate predicted trajectories for all dynamic objects(position, heading and velocity)\n",
    "2. Accurate dynamic objects gemoetries\n",
    "\n",
    "# Simulation approach\n",
    "\n",
    "- Simulate the movement of each vehicle as time passes\n",
    "- Taking account of the vehicle model over time\n",
    "- Checking if any part of the two dynamic object has collided\n",
    "\n",
    "# Estimation approach \n",
    "\n",
    "- Geometries of the vehicles are approximated over duration of the predicted path\n",
    "- Collisions point is estimated based the cars predictions\n",
    "- Many assumptions are usually made by this method usually to estimate time to collision\n",
    "\n",
    "## Relative strengths and weaknedd\n",
    "\n",
    "1. Simulation approach:\n",
    "- Bad: Computationally expensive\n",
    "- Good: Higher accuracy if simulated with high fidelity\n",
    "- Neutral: Offline applications(Dataset evaluation or simulations)\n",
    "\n",
    "2. Estimation approach:\n",
    "- Good: Computationally inexpensive: Memory footprint, computational time\n",
    "- bad: Less accurate due to approximations and estimations\n",
    "- Neutral: Real time applications (in car prediction)\n",
    "\n"
   ]
  }
 ],
 "metadata": {
  "language_info": {
   "name": "python"
  }
 },
 "nbformat": 4,
 "nbformat_minor": 2
}
