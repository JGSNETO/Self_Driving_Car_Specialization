{
 "cells": [
  {
   "cell_type": "markdown",
   "metadata": {},
   "source": [
    "# Handling ambiguity in Matching\n",
    "\n",
    "- Ambiguous matches are features in the first image that have a similar distance to two or more features in the second image. \n",
    "- Ambiguous matches can be handled by computing a distance ratio, and making sure this ratio is lower than a predefined threshold for all of our matches. "
   ]
  }
 ],
 "metadata": {
  "language_info": {
   "name": "python"
  }
 },
 "nbformat": 4,
 "nbformat_minor": 2
}
