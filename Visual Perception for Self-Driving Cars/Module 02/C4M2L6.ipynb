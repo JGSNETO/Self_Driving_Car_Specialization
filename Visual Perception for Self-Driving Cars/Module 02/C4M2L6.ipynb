{
 "cells": [
  {
   "cell_type": "markdown",
   "metadata": {},
   "source": [
    "# Visual Odometry\n",
    "\n",
    "-  Visual Odometry(VO): Is the process of increamentally estimating the pose of the vehicle by examining the changes that motion induces on the images og its onboard cameras.\n",
    "\n",
    "## VO Pros:\n",
    "\n",
    "- Not affected by wheel slip in uneven terrain, rainy/snowy weather, or other adverse conditions.\n",
    "- More accurate trajectory estimates compared to wheel odometry.\n",
    "\n",
    "## VO Cons:\n",
    "\n",
    "- Usually need an external sensor to estimate absolute scale.\n",
    "- Camera is a passive sensor, might not be very robust against weather conditions and illumination changes.\n",
    "- Any form of odometry (Incremental state estimation) drifts over time-\n",
    "\n",
    "## VO\n",
    "\n",
    "- Given: Two consecutives image frames Ik-1 and Ik\n",
    "- Extract and match features fk-1 and fk between two frames Ik-1 and Ik\n",
    "- Estimate motion between frames to get Tk\n",
    "- Local optimization within multiple frame pairs\n",
    "\n",
    "\n",
    "## Summary\n",
    "\n",
    "- Visual odometry can be used to provide accurate trajectory estimate for a self-driving car without suffering from wheel slipping effects due to adverse weather conditions.\n",
    "- Visual odometry can be performed using 2D-3D. \n",
    "\n",
    "\n",
    "\n",
    "\n",
    "\n"
   ]
  }
 ],
 "metadata": {
  "language_info": {
   "name": "python"
  }
 },
 "nbformat": 4,
 "nbformat_minor": 2
}
