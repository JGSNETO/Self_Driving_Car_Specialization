{
 "cells": [
  {
   "cell_type": "markdown",
   "id": "148e7128-0be5-4ca7-a1c5-63747c2f95ce",
   "metadata": {},
   "source": [
    "# 3D Geometry and Reference Frames\n",
    "\n",
    "## Sensors:\n",
    "\n",
    "- IMU: Inertial Measurement Unit\n",
    "- GNSS: Global Navigation Satellite Systems\n",
    "\n",
    "## Reference Frames | ECIF: Earth Centered Inertial Equatorial\n",
    "\n",
    "- ECIF coordinate frame is fixed.\n",
    "- Earth rotates about the z-axis.\n",
    "\n",
    "## Reference Frames | ECEF: Eath Centered Earth Fixed\n",
    "\n",
    "- ECEF coordinate frame rotates with the earth\n",
    "\n",
    "## Reference Frames | Navigation: NED\n",
    "\n",
    "- x: True north\n",
    "- y: True East\n",
    "- z: Down (Along with Gravity)"
   ]
  },
  {
   "cell_type": "markdown",
   "id": "5e0baf31-a555-45df-82e5-66b35384e959",
   "metadata": {},
   "source": [
    "# The inertial Measurements Unit(IMU)\n",
    "\n",
    "- The inertial measurement unit, or IMU measures the movement of a body in inertial space.\n",
    "- The IMU is typically composed of\n",
    "1. Gyroscopes: Measure angular rotation rates about three separate axes\n",
    "2. Accelerometters: measure accelerations along three orthogonal axes\n",
    "\n",
    "## Summary\n",
    "\n",
    "- A 6 DOF IMU is composed of three gyroscopes and three aceelerometers, mounted orthogonally.\n",
    "- A strapdown gyroscope measures a rotational rate in the sensor frame.\n",
    "- A strapdown accelerometer measures a specific force (or accelertion relative to free-fall) in the sensor frame. "
   ]
  },
  {
   "cell_type": "markdown",
   "id": "b1e2ab81-7176-43c4-9b9b-2aca7d0615e0",
   "metadata": {},
   "source": [
    "# The Global Navigation Satellite Systems (GNSS)\n",
    "\n",
    "- It's able to provide a position fix anywhere in the world with bounded error which is key.\n",
    "- Global Navigation Satellite System (GNSS): Is a catch-all term for a satellite system(s) that can be used to pinpoint a receiver's position anywhere in the world.\n",
    "\n",
    "## GPS: Global Positioning Systems\n",
    "\n",
    "- Composed of 24 to 32 sastellites in 6 orbital planes.\n",
    "- Each satellite broadcasts on two frequencies.\n",
    "\n",
    "## Computing Position\n",
    "\n",
    "- Each GPS satellite transmits a signal that encodes\n",
    "1. Its position: Via accurate ephemeris information.\n",
    "2. Time of signal transmission\n",
    "\n",
    "- To compute a GPS position fix in the Earth-centred frame, the receiver uses the speed of light to compute distances to each satellite based on time of signal arrival.\n",
    "- At least four satellites are required to solve for 3D position, three is only 2D is required.\n",
    "\n",
    "## GPS | Error Sources\n",
    "\n",
    "- Lonospheric delay: Charged ions in the atmosphere affect signal propagation.\n",
    "- Multipath effects: Surrounding terrain, buildings can cause unwanted reflection.\n",
    "\n",
    "## Summary\n",
    "\n",
    "- A GNSS works through trilateration via pseudoranging from at least 4 satellites for a 3D position fix.\n",
    "- GNSS error can be caused by ionospheric delays, multipath effects, and precision is also affected by GDOP.\n",
    "- For GPS, differen"
   ]
  }
 ],
 "metadata": {
  "kernelspec": {
   "display_name": "Python 3 (ipykernel)",
   "language": "python",
   "name": "python3"
  },
  "language_info": {
   "codemirror_mode": {
    "name": "ipython",
    "version": 3
   },
   "file_extension": ".py",
   "mimetype": "text/x-python",
   "name": "python",
   "nbconvert_exporter": "python",
   "pygments_lexer": "ipython3",
   "version": "3.8.0"
  }
 },
 "nbformat": 4,
 "nbformat_minor": 5
}
