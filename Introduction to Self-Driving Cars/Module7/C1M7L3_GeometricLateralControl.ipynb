{
 "cells": [
  {
   "cell_type": "markdown",
   "id": "8b00b487",
   "metadata": {},
   "source": [
    "# Stanley Controller Approach\n",
    "\n",
    "- Stanley method is the path tracking approach used by Stanford University´s Darpa Grand Challenge team.\n",
    "- Used the center of the front axle as a reference point.\n",
    "- Look at both the error in heading and the error in position relative to the closedt point on the path.\n",
    "- Define an intuitive steering law to:\n",
    "1. Correct heading error\n",
    "2. Correct position error\n",
    "3. Obey max steering angle bounds\n",
    "\n",
    "## Combined steering law\n",
    "\n",
    "- For larger heading error, steer in opposite direction\n",
    "1. The larger the heading error, the larger the steering correction \n",
    "2. Fixed at limit beyond maximum steering angle, assuming no crosstrack error.\n",
    "\n",
    "- As heading changes due to steering angle, the heading correction counteracts the crosstrack correction, and drives the steering angle back to zero.\n",
    "\n",
    "- The vehicle approaches the path, crosstrack correction, and drives the steering angle back to zero.\n",
    "- The vehicle approaches the path, crosstrack error drops, and steering commands starts to correct heading alignment. \n",
    "\n"
   ]
  }
 ],
 "metadata": {
  "kernelspec": {
   "display_name": "Python 3 (ipykernel)",
   "language": "python",
   "name": "python3"
  },
  "language_info": {
   "codemirror_mode": {
    "name": "ipython",
    "version": 3
   },
   "file_extension": ".py",
   "mimetype": "text/x-python",
   "name": "python",
   "nbconvert_exporter": "python",
   "pygments_lexer": "ipython3",
   "version": "3.7.0"
  }
 },
 "nbformat": 4,
 "nbformat_minor": 5
}
