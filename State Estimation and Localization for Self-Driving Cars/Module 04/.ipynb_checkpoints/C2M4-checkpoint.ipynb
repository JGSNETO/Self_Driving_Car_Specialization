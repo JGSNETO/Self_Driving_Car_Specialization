{
 "cells": [
  {
   "cell_type": "markdown",
   "id": "148e7128-0be5-4ca7-a1c5-63747c2f95ce",
   "metadata": {},
   "source": [
    "# 3D Geometry and Reference Frames\n",
    "\n",
    "## Sensors:\n",
    "\n",
    "- IMU: Inertial Measurement Unit\n",
    "- GNSS: Global Navigation Satellite Systems\n",
    "\n",
    "## Reference Frames | ECIF: Earth Centered Inertial Equatorial\n",
    "\n",
    "- ECIF coordinate frame is fixed.\n",
    "- Earth rotates about the z-axis.\n",
    "\n",
    "## Reference Frames | ECEF: Eath Centered Earth Fixed\n",
    "\n",
    "- ECEF coordinate frame rotates with the earth\n",
    "\n",
    "## Reference Frames | Navigation: NED\n",
    "\n",
    "- x: True north\n",
    "- y: True East\n",
    "- z: Down (Along with Gravity)"
   ]
  },
  {
   "cell_type": "code",
   "execution_count": null,
   "id": "1578aceb-6027-41e4-a1d3-5a58fdcfd714",
   "metadata": {},
   "outputs": [],
   "source": []
  }
 ],
 "metadata": {
  "kernelspec": {
   "display_name": "Python 3 (ipykernel)",
   "language": "python",
   "name": "python3"
  },
  "language_info": {
   "codemirror_mode": {
    "name": "ipython",
    "version": 3
   },
   "file_extension": ".py",
   "mimetype": "text/x-python",
   "name": "python",
   "nbconvert_exporter": "python",
   "pygments_lexer": "ipython3",
   "version": "3.8.0"
  }
 },
 "nbformat": 4,
 "nbformat_minor": 5
}
