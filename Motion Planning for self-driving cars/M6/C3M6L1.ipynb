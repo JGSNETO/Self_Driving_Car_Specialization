{
 "cells": [
  {
   "cell_type": "markdown",
   "metadata": {},
   "source": [
    "# Behaviour Planning\n",
    "\n",
    "- A behaviour planning system plans the set of high level driving actions, or maneuvers to safely achieve the driving mission under various driving situations. \n",
    "- Behaviour planner considers:\n",
    "1. Rules of the road\n",
    "2. Static objects arounf the vehicle\n",
    "3. Dynamic objects around the vehicle\n",
    "\n",
    "- Planned path must be safe and efficient\n",
    "\n",
    "# Driving Maneuvers\n",
    "\n",
    "- Track speed: Maintain current speed of the road\n",
    "- Follow leader: Match the speed of the leading vehicle and maintain a safe distance\n",
    "- Decelerate to stop: begin develerating and sto before a given space\n",
    "- Stop: Remain stopped in the current position\n",
    "- Merge: Join or switch onto a new drive lane\n",
    "\n",
    "# Output of behavior planner\n",
    "\n",
    "- Driving manuever to be executed\n",
    "- Set of constraints which must be obeyed by the planned trajectory of the self driving car which include:\n",
    "1. Ideal path\n",
    "2. Speed limit\n",
    "3. Lane boundaries\n",
    "4. Stop locations\n",
    "5. Set of interest vehicle\n",
    "\n",
    "# Input requirements\n",
    "- High definition road map\n",
    "- Mission path\n",
    "- Localization information\n",
    "\n",
    "## Perception information\n",
    "- All observed dynamic objects: Prediction of future movement; Collision points and time to collision.\n",
    "- All observed static objects: Road signs.\n",
    "- Occupancy grid.\n"
   ]
  }
 ],
 "metadata": {
  "language_info": {
   "name": "python"
  }
 },
 "nbformat": 4,
 "nbformat_minor": 2
}
