{
 "cells": [
  {
   "cell_type": "markdown",
   "metadata": {},
   "source": [
    "# Trajectory Rollout Planner\n",
    "\n",
    "- Uses trajectory propagation to generate candidate set of trajectories. \n",
    "- Among collision-free trajectories, select trajectory that makes the most progress to goal.  \n",
    "\n",
    "# Trajectory Set Generation\n",
    "\n",
    "- Each trajectory corresponds to a fixed control input to our model\n",
    "- Typically uniformly sampled accores range of possible inputs\n",
    "- More sampled trajectories leads to more manueverability\n",
    "- Fewer sampled trajectories improves computation time"
   ]
  }
 ],
 "metadata": {
  "language_info": {
   "name": "python"
  }
 },
 "nbformat": 4,
 "nbformat_minor": 2
}
