{
 "cells": [
  {
   "cell_type": "markdown",
   "metadata": {},
   "source": [
    "# Assumptions to improve prediction\n",
    "\n",
    "- Positional Assumptions: \n",
    "1. Vehicle on driing lane usually follow the given drive lane\n",
    "2. Changing drive lanes is usually prompted by an indicator signal\n",
    "\n",
    "- Velocity assumptions\n",
    "1. Vehicle usually modify their velocity when approaching restrictive geometry(tight turns)\n",
    "2. Vehicle usually modify the velocity when approaching regulatory elements\n",
    "\n",
    "# Issues with the assumptions\n",
    "\n",
    "- Vehicles don't always stay within their lane or stop at regulatory elements\n",
    "- Vehicles off of the road map cannot be predicted using this method"
   ]
  }
 ],
 "metadata": {
  "language_info": {
   "name": "python"
  }
 },
 "nbformat": 4,
 "nbformat_minor": 2
}
