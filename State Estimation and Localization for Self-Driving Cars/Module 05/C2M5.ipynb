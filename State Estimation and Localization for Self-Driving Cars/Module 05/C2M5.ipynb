{
 "cells": [
  {
   "cell_type": "markdown",
   "metadata": {},
   "source": [
    "# Light Detection and Ranging Sensors\n",
    "\n",
    "- LIDAR originated in the 1960s shortly after the invention of the laser. \n",
    "- First used by meteorologists to measure clouds.\n",
    "- Nom commonly used for surveying and mapping.\n",
    "- 3D LIDAR sensors report range, aimuth angle and elevation angle (+ return intensity).\n",
    "\n",
    "## Sources of measurement noise\n",
    "\n",
    "- Uncertainty in determining the exact time of arrival of the refleced signal.\n",
    "- Uncertainty in measuring the exact orientation of the mirror.\n",
    "- Interaction with the target(surface absorption, specular reflection).\n",
    "- Variation of propagation speed.\n",
    "\n",
    "## Motion Distortion\n",
    "\n",
    "- Typical scan rate for a 3D LIDAR is 5-20 hz.\n",
    "- For a moving vehicle, each poit in a scan is taken from a slightly different place.\n",
    "- Need to account for this if the vehicle is moving quickly, otherwise motion distortion becomes a problem.\n",
    "\n",
    "## Summary\n",
    "\n",
    "- LIDAR sensors use laser pulses and time-of-flight to measure distances to objects along a specific direction.\n",
    "- 2D and 3D LIDARs work by sweeping the laser pulses in many directions across the whole environment.\n",
    "\n"
   ]
  },
  {
   "cell_type": "markdown",
   "metadata": {},
   "source": [
    "# LIDAR sensor Models and Point Clouds\n",
    "\n",
    "- The point cloud library (PCL): Open-source Point Cloud Library (PCL) has many useful functions for doing basic and advanced operations on point clouds in C++\n",
    "- Widely used in industry\n",
    "- Unofficial Python bindings exist\n",
    "\n",
    "## Summary\n",
    "\n",
    "- The cartersian coordinates of all the measurements from LIDAR scan are stored in a point coud\n",
    "- Points clouds can be translated, rotated, or scaled\n",
    "- We can use point clouds for useful self-driving tasks, like fitting a 3D plane to find the road surface\n",
    "- The point cloud library (PCL) implements many useful tools for working with points clouds in C++"
   ]
  }
 ],
 "metadata": {
  "language_info": {
   "name": "python"
  }
 },
 "nbformat": 4,
 "nbformat_minor": 2
}
