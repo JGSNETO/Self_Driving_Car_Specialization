{
 "cells": [
  {
   "cell_type": "markdown",
   "metadata": {},
   "source": [
    "# Ground plane classification\n",
    "\n",
    "- Utilize segmentation to remove points of read elements\n",
    "- Keep points from no drivale surfaces"
   ]
  }
 ],
 "metadata": {
  "language_info": {
   "name": "python"
  }
 },
 "nbformat": 4,
 "nbformat_minor": 2
}
