{
 "cells": [
  {
   "cell_type": "markdown",
   "metadata": {},
   "source": [
    "# Goal Horizon\n",
    "\n",
    "- Short lookahead improves computation time, but reduces ability to avoid obstacles.\n",
    "- Goal point is dynamically calculated based on speed and other factors.\n",
    "- Endpoints are sampled laterally offset from goal according to the heading along the road."
   ]
  }
 ],
 "metadata": {
  "language_info": {
   "name": "python"
  }
 },
 "nbformat": 4,
 "nbformat_minor": 2
}
