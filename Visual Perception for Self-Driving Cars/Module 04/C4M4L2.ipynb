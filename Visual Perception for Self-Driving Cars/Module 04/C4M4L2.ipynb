{
 "cells": [
  {
   "cell_type": "markdown",
   "metadata": {},
   "source": [
    "# Output layer and Loss function\n",
    "\n",
    "- Output layer: The final layer of a neural network that produces the network's predictions or results. Its structure and activation function depend on the type of task, suach as softmax for classification or linear activation for regression. \n",
    "- Loss function: A mathematical function that measures the difference between the predicted output and the actual target value, guiding the mode's learning by indicating how well or poorly it is a perfoming. Common examples include mean squared error for regression and cross-entropy loss for classification. \n",
    "- Activation Function: A mathematical function applied to a neuron's output that introduces non-linearity, allowing the neural network to model complex patterns and relationships. Common activation functions include ReLU, sigmoid and tanh. \n",
    "\n",
    "## Classification and Regression\n",
    "\n",
    "- Classification: Given input x map it to one of k classes or categories. eg: Image classification, semantic segmentation\n",
    "- Regression: Given input x Map it to a real number. eg: Depth prediction, bounding box estimation. \n",
    "\n",
    "## Summary\n",
    "\n",
    "- To build a machine learning model you need:\n",
    "1. A model\n",
    "2. A loss function\n",
    "3. An optimization procedure\n",
    "- Loss functions are chosen based on the task at hand"
   ]
  }
 ],
 "metadata": {
  "language_info": {
   "name": "python"
  }
 },
 "nbformat": 4,
 "nbformat_minor": 2
}
