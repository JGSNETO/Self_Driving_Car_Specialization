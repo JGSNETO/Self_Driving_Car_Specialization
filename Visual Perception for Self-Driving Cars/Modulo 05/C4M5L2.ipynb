{
 "cells": [
  {
   "cell_type": "markdown",
   "metadata": {},
   "source": [
    "# Object Detection with Conv Neural Networks\n",
    "\n",
    "## The feature extractor\n",
    "\n",
    "- Feature extractors are the most computationally expensive component of the 2D object detector\n",
    "- The output of feature extractors usually has much lower width and height than those of the input image, but much greater depth\n",
    "- Very active area of research, with new extractors proposed on regular basis\n",
    "- Most common extractor are: VGG, ResNet and inception\n",
    "\n",
    "## Summary\n",
    "\n",
    "- 2D object detectors can be performed using convolutional neural networks\n",
    "- Usually, anchor boxes are used as priors for the neural network to shift around to achieve object classification and localization"
   ]
  }
 ],
 "metadata": {
  "language_info": {
   "name": "python"
  }
 },
 "nbformat": 4,
 "nbformat_minor": 2
}
