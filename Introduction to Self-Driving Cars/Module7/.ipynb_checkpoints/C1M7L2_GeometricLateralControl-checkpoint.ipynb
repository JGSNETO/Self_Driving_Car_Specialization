{
 "cells": [
  {
   "cell_type": "markdown",
   "id": "1e8cb6a5",
   "metadata": {},
   "source": [
    "# Geometric Path Tracking\n",
    "\n",
    "- One of the most popular classes of path tracking in robotics and autonomous vehicle.\n",
    "- Exploits geometric relationship between the vehicle and the path resulting in compact control law solutions to the path tracking problem.\n",
    "- Use of reference point on path to measure error of the vehicle, can be ahead of the vehicle.\n",
    "\n",
    "## Pure pursuit\n",
    "\n",
    "- Pure pursuit method consists of geometrically calculating the trajectory curvature.\n",
    "- Connect the centre of rear axle location to a target point of the path ahead of the vehicle.\n",
    "- Steering angle determined by target point location and angle between the vehicle's heading direction and lookahead direction.\n",
    "- Pure pursuit is a proportional controller of the steering angle operating ona  crosstrack error some look ahead distance in front of the vehicle. "
   ]
  }
 ],
 "metadata": {
  "kernelspec": {
   "display_name": "Python 3 (ipykernel)",
   "language": "python",
   "name": "python3"
  },
  "language_info": {
   "codemirror_mode": {
    "name": "ipython",
    "version": 3
   },
   "file_extension": ".py",
   "mimetype": "text/x-python",
   "name": "python",
   "nbconvert_exporter": "python",
   "pygments_lexer": "ipython3",
   "version": "3.7.0"
  }
 },
 "nbformat": 4,
 "nbformat_minor": 5
}
