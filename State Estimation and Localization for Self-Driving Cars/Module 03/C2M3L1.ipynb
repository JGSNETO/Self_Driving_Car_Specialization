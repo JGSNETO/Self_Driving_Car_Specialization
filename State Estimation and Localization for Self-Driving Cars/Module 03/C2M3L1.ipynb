{
 "cells": [
  {
   "cell_type": "markdown",
   "metadata": {},
   "source": [
    "# Kalman Filter\n",
    "\n",
    "- In today's world of advanced machine learning, the Kalman filter remains an important tool to fuse measurements from several sensors to estimate in real-time the state of a robotic system such as a self-driving car.\n",
    "- The Kalman filter is very similar to the linear recursive least squares filter we discussed earlier. \n",
    "- While recursive least squares updates the estimate of a static parameter, but Kalman filter is able to update and estimate of an evolving state. \n",
    "- The goal of the Kalman filter is to take a probabilistic estimate of this state and update it in real time using two steps; prediction and correction.\n",
    "\n",
    "## The kalman Filter | Recursive Least Squares + Process Model\n",
    "- the Kalman filter is a recursive least squares estimator that also includes a motion model. "
   ]
  },
  {
   "cell_type": "markdown",
   "metadata": {},
   "source": [
    "# Kalman Filter and the Bias BLUEs\n",
    "\n",
    "- Best Linear Unbiased Estimator(BLUE)\n",
    "- We say an estimator or filter is unbiased if it produces an 'average' error of zero at a particular time step k, over many trials.\n",
    "- We have shown that given our linear formulation, and zero-mean, white noise the kalman Filter is unbiased.\n",
    "- The Kalman filter is:\n",
    "1. Unbiased\n",
    "2. Consistent\n",
    "3. The lowest variance estimator that uses a linear combination of measurements: BLUE"
   ]
  },
  {
   "cell_type": "markdown",
   "metadata": {},
   "source": [
    "# Going Nonlinear - The extended Kalman Filter\n",
    "\n",
    "- The linear Kalman filter cannot be used directly to estimate states that are non-linear functions of either the measurements or the control inputs.\n",
    "- The extended Kalman filter, or EKF. The EKF is designed to work with nonlinear systems, and it's often considered one of the workhorses of state estimation, because it's used in all sorts of applications including self-driving cars.\n",
    "- The filter works by first predicting the mean and covariance of the updated state estimate at some time step k, based on the previous state and any inputs we give to the system such as the position of the accelerator pedal. The filter then uses a measurement model to predict what measurements should arrive based on the state estimate, and compares these predictions with the measurements that actually arrive from our sensors.\n",
    "- The EKF uses linearization to adapt the Kalman Filter to nonlinear systems.\n",
    "- Linearization works by computing a local linear approximation to a nonlinear function about a chosen operating point.\n",
    "- Linearization relies on computing Jacobian matrices, which contain all the first-order partial derivatives of a function.\n",
    "\n",
    "## EKF | Linearizing a NonLinear System\n",
    "\n",
    "- Choose an operating point a and approximate the nonlinear function by a tangent line at that point. \n",
    "- For the EFK, we choose the operating point to be our most recent state estimate, our known input, and zero noise. "
   ]
  },
  {
   "cell_type": "markdown",
   "metadata": {},
   "source": [
    "# An improved EKF - The error State Extended Kalman Filter: The error State EKF\n",
    "\n",
    "- What is in a State: True stat = Nominal state (\"Large\") + Error State (\"Small\").\n",
    "- The Error-State Extended Klaman Filter estimates the error state directly and uses it as correction to the nominal state. \n",
    "\n",
    "## Why use the ES-EKF ?\n",
    "\n",
    "1. Better performance compared to the vanilla EKF: The small error state is more amenable to linear filtering than the \"large\" nominal state, which can be integrated nonlinearly. \n",
    "2. Easy to work with constrained quantities(e.g., rotation in 3D): We can also break down the state using a generalized composition operator.\n",
    "\n",
    "## Summary\n",
    "\n",
    "- The error state formulation separates the state into a \"large\" nominal state and a \"small\" error state. \n",
    "- The ES-EKF uses local linearization to estimate the error state and uses it to correct the nominal state.\n",
    "- The ES-EKF can perform better than the vanilla EKF, and provides a natural way to handle contrained quantities like rotations in 3D. "
   ]
  }
 ],
 "metadata": {
  "language_info": {
   "name": "python"
  }
 },
 "nbformat": 4,
 "nbformat_minor": 2
}
