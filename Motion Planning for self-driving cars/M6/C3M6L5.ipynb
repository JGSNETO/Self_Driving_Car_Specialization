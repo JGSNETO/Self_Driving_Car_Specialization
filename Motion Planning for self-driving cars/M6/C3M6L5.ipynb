{
 "cells": [
  {
   "cell_type": "markdown",
   "metadata": {},
   "source": [
    "# State machine behaviour planning issues\n",
    "\n",
    "- Rule-explosion when dealing with complex scenarios\n",
    "- Dealing with a noisy environment\n",
    "- Hyperparameter tuning\n",
    "- Incapable of dealing with unencountered scenarios\n",
    "\n",
    "# Rule-based behaviour planner\n",
    "\n",
    "- Hierarchy of rules\n",
    "1. Safety Critical\n",
    "2. Defensive driving\n",
    "3. Ride comfort\n",
    "4. Nominal behaviours\n",
    "\n",
    "- Redice need for duplication\n",
    "1. Rule can apply throughout ODD\n",
    "\n",
    "- Suffer from same challenges as finit state machines\n",
    "1. Common to all expert system designs\n",
    "\n",
    "# Reinforcement learning issues\n",
    "\n",
    "- Simple simulation environments\n",
    "- Ensuring safety"
   ]
  }
 ],
 "metadata": {
  "language_info": {
   "name": "python"
  }
 },
 "nbformat": 4,
 "nbformat_minor": 2
}
